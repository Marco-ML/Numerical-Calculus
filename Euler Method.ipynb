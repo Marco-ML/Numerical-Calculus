{
 "cells": [
  {
   "cell_type": "markdown",
   "metadata": {},
   "source": [
    "ODE: $\\dfrac{dy}{dx} = y - \\dfrac{2x}{y}$\n",
    "\n",
    "Exact solution: $y^2 = 2x + 1$\n",
    "\n",
    "$x \\in [0, 1]$, $h = 0,25$\n",
    "\n",
    "$y(0) = 1$"
   ]
  },
  {
   "cell_type": "code",
   "execution_count": 1,
   "metadata": {},
   "outputs": [
    {
     "data": {
      "text/html": [
       "<style  type=\"text/css\" >\n",
       "</style><table id=\"T_3f6e7724_98da_11ec_a798_5cc9d3ab37fa\" ><thead>    <tr>        <th class=\"col_heading level0 col0\" >x</th>        <th class=\"col_heading level0 col1\" >Y(exact)</th>        <th class=\"col_heading level0 col2\" >Y(numeric)</th>        <th class=\"col_heading level0 col3\" >E</th>    </tr></thead><tbody>\n",
       "                <tr>\n",
       "                                <td id=\"T_3f6e7724_98da_11ec_a798_5cc9d3ab37farow0_col0\" class=\"data row0 col0\" >0.250000</td>\n",
       "                        <td id=\"T_3f6e7724_98da_11ec_a798_5cc9d3ab37farow0_col1\" class=\"data row0 col1\" >1.224744871391589</td>\n",
       "                        <td id=\"T_3f6e7724_98da_11ec_a798_5cc9d3ab37farow0_col2\" class=\"data row0 col2\" >1.25</td>\n",
       "                        <td id=\"T_3f6e7724_98da_11ec_a798_5cc9d3ab37farow0_col3\" class=\"data row0 col3\" >2.0620726159657607%</td>\n",
       "            </tr>\n",
       "            <tr>\n",
       "                                <td id=\"T_3f6e7724_98da_11ec_a798_5cc9d3ab37farow1_col0\" class=\"data row1 col0\" >0.500000</td>\n",
       "                        <td id=\"T_3f6e7724_98da_11ec_a798_5cc9d3ab37farow1_col1\" class=\"data row1 col1\" >1.4142135623730951</td>\n",
       "                        <td id=\"T_3f6e7724_98da_11ec_a798_5cc9d3ab37farow1_col2\" class=\"data row1 col2\" >1.4625</td>\n",
       "                        <td id=\"T_3f6e7724_98da_11ec_a798_5cc9d3ab37farow1_col3\" class=\"data row1 col3\" >3.414366748532572%</td>\n",
       "            </tr>\n",
       "            <tr>\n",
       "                                <td id=\"T_3f6e7724_98da_11ec_a798_5cc9d3ab37farow2_col0\" class=\"data row2 col0\" >0.750000</td>\n",
       "                        <td id=\"T_3f6e7724_98da_11ec_a798_5cc9d3ab37farow2_col1\" class=\"data row2 col1\" >1.5811388300841898</td>\n",
       "                        <td id=\"T_3f6e7724_98da_11ec_a798_5cc9d3ab37farow2_col2\" class=\"data row2 col2\" >1.657184829059829</td>\n",
       "                        <td id=\"T_3f6e7724_98da_11ec_a798_5cc9d3ab37farow2_col3\" class=\"data row2 col3\" >4.809571274117033%</td>\n",
       "            </tr>\n",
       "            <tr>\n",
       "                                <td id=\"T_3f6e7724_98da_11ec_a798_5cc9d3ab37farow3_col0\" class=\"data row3 col0\" >1.000000</td>\n",
       "                        <td id=\"T_3f6e7724_98da_11ec_a798_5cc9d3ab37farow3_col1\" class=\"data row3 col1\" >1.7320508075688772</td>\n",
       "                        <td id=\"T_3f6e7724_98da_11ec_a798_5cc9d3ab37farow3_col2\" class=\"data row3 col2\" >1.8451936642561264</td>\n",
       "                        <td id=\"T_3f6e7724_98da_11ec_a798_5cc9d3ab37farow3_col3\" class=\"data row3 col3\" >6.532305876526664%</td>\n",
       "            </tr>\n",
       "    </tbody></table>"
      ],
      "text/plain": [
       "<pandas.io.formats.style.Styler at 0x21ed02c5f88>"
      ]
     },
     "metadata": {},
     "output_type": "display_data"
    },
    {
     "data": {
      "text/plain": [
       "(None, <matplotlib.legend.Legend at 0x21ead37af88>)"
      ]
     },
     "execution_count": 1,
     "metadata": {},
     "output_type": "execute_result"
    },
    {
     "data": {
      "image/png": "[encoded data removed]",
      "text/plain": [
       "<Figure size 432x288 with 1 Axes>"
      ]
     },
     "metadata": {
      "needs_background": "light"
     },
     "output_type": "display_data"
    }
   ],
   "source": [
    "import matplotlib.pyplot as plt\n",
    "import pandas as pd\n",
    "import numpy as np\n",
    "\n",
    "def put_values():\n",
    "    global x, y, n, h, x0, y0, xk, yk\n",
    "    \n",
    "    h = 0.25\n",
    "    x0 = 0\n",
    "    xf = 1\n",
    "    n = int((xf - x0)/h)\n",
    "    x = []\n",
    "    y = []\n",
    "    y0 = 1\n",
    "    xk = x0\n",
    "    yk = y0\n",
    "    \n",
    "    return Euler(x, y, n, h, x0, y0, xk, yk)\n",
    "\n",
    "def Euler(x, y, n, h, x0, y0, xk, yk):\n",
    "    \n",
    "    for i in range(1, n + 1):\n",
    "        x.append(xk + h)\n",
    "        dy = yk - (2*xk)/yk\n",
    "        y.append(yk + h*dy)\n",
    "        xk = x[i - 1]\n",
    "        yk = y[i - 1]\n",
    "    \n",
    "    return [x, y]\n",
    "\n",
    "def exact_soluction():\n",
    "    x_values = put_values()[0]\n",
    "    y_results = []\n",
    "    for i in x:\n",
    "        y = np.sqrt(2*i + 1)\n",
    "        y_results.append(y)\n",
    "    return [x_values, y_results]\n",
    "\n",
    "def relative_error():\n",
    "    error = []\n",
    "    for i,j in zip(y_exact, y_euler):\n",
    "        error.append(str(np.abs(100 - (j * 100)/i)) + \"%\")\n",
    "    return error\n",
    "\n",
    "def data_frame_and_graphic():\n",
    "    global x_euler, y_euler, x_exact, y_exact\n",
    "    \n",
    "    x_euler, y_euler = put_values()\n",
    "    x_exact, y_exact = exact_soluction()\n",
    "    error = relative_error()\n",
    "    elements_df = [x_exact, y_exact, y_euler,error]\n",
    "    elements_df_np = np.array(elements_df).T\n",
    "    elements_df = elements_df_np.tolist()\n",
    "    dataframe = pd.DataFrame(elements_df, columns = [\"x\", \"Y(exact)\", \"Y(numeric)\", \"E\"])\n",
    "    plt.plot(x_exact, y_exact)\n",
    "    plt.plot(x_euler, y_euler)\n",
    "    def only_two_decimal_points(x):\n",
    "        x = float(\"{:.2f}\".format(float(x)))\n",
    "        return x\n",
    "    dataframe['x'] = dataframe['x'].map(lambda x: only_two_decimal_points(x))\n",
    "    dataframe = dataframe.style.hide_index()\n",
    "    return display(dataframe), plt.legend(['Exact','Euler'], loc = 0)\n",
    "\n",
    "data_frame_and_graphic()"
   ]
  }
 ],
 "metadata": {
  "kernelspec": {
   "display_name": "Python 3",
   "language": "python",
   "name": "python3"
  },
  "language_info": {
   "codemirror_mode": {
    "name": "ipython",
    "version": 3
   },
   "file_extension": ".py",
   "mimetype": "text/x-python",
   "name": "python",
   "nbconvert_exporter": "python",
   "pygments_lexer": "ipython3",
   "version": "3.7.6"
  }
 },
 "nbformat": 4,
 "nbformat_minor": 4
}
