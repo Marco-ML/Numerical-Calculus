{
 "cells": [
  {
   "cell_type": "markdown",
   "metadata": {},
   "source": [
    "### Example 1\n",
    "\n",
    "ODE: $\\dfrac{dy}{dx} = y - \\dfrac{2x}{y}$\n",
    "\n",
    "Exact solution: $y^2 = 2x + 1$\n",
    "\n",
    "$x \\in [0, 1]$, $h = 0,25$\n",
    "\n",
    "$y(0) = 1$"
   ]
  },
  {
   "cell_type": "code",
   "execution_count": 2,
   "metadata": {},
   "outputs": [
    {
     "data": {
      "text/html": [
       "<style  type=\"text/css\" >\n",
       "</style><table id=\"T_2dd33d74_969d_11ec_874c_5cc9d3ab37fa\" ><thead>    <tr>        <th class=\"col_heading level0 col0\" >x</th>        <th class=\"col_heading level0 col1\" >Y(exact)</th>        <th class=\"col_heading level0 col2\" >Y(numeric)</th>        <th class=\"col_heading level0 col3\" >E</th>    </tr></thead><tbody>\n",
       "                <tr>\n",
       "                                <td id=\"T_2dd33d74_969d_11ec_874c_5cc9d3ab37farow0_col0\" class=\"data row0 col0\" >0.25</td>\n",
       "                        <td id=\"T_2dd33d74_969d_11ec_874c_5cc9d3ab37farow0_col1\" class=\"data row0 col1\" >1.224744871391589</td>\n",
       "                        <td id=\"T_2dd33d74_969d_11ec_874c_5cc9d3ab37farow0_col2\" class=\"data row0 col2\" >1.25</td>\n",
       "                        <td id=\"T_2dd33d74_969d_11ec_874c_5cc9d3ab37farow0_col3\" class=\"data row0 col3\" >2.0620726159657607%</td>\n",
       "            </tr>\n",
       "            <tr>\n",
       "                                <td id=\"T_2dd33d74_969d_11ec_874c_5cc9d3ab37farow1_col0\" class=\"data row1 col0\" >0.5</td>\n",
       "                        <td id=\"T_2dd33d74_969d_11ec_874c_5cc9d3ab37farow1_col1\" class=\"data row1 col1\" >1.4142135623730951</td>\n",
       "                        <td id=\"T_2dd33d74_969d_11ec_874c_5cc9d3ab37farow1_col2\" class=\"data row1 col2\" >1.4625</td>\n",
       "                        <td id=\"T_2dd33d74_969d_11ec_874c_5cc9d3ab37farow1_col3\" class=\"data row1 col3\" >3.414366748532572%</td>\n",
       "            </tr>\n",
       "            <tr>\n",
       "                                <td id=\"T_2dd33d74_969d_11ec_874c_5cc9d3ab37farow2_col0\" class=\"data row2 col0\" >0.75</td>\n",
       "                        <td id=\"T_2dd33d74_969d_11ec_874c_5cc9d3ab37farow2_col1\" class=\"data row2 col1\" >1.5811388300841898</td>\n",
       "                        <td id=\"T_2dd33d74_969d_11ec_874c_5cc9d3ab37farow2_col2\" class=\"data row2 col2\" >1.657184829059829</td>\n",
       "                        <td id=\"T_2dd33d74_969d_11ec_874c_5cc9d3ab37farow2_col3\" class=\"data row2 col3\" >4.809571274117033%</td>\n",
       "            </tr>\n",
       "            <tr>\n",
       "                                <td id=\"T_2dd33d74_969d_11ec_874c_5cc9d3ab37farow3_col0\" class=\"data row3 col0\" >1.0</td>\n",
       "                        <td id=\"T_2dd33d74_969d_11ec_874c_5cc9d3ab37farow3_col1\" class=\"data row3 col1\" >1.7320508075688772</td>\n",
       "                        <td id=\"T_2dd33d74_969d_11ec_874c_5cc9d3ab37farow3_col2\" class=\"data row3 col2\" >1.8451936642561264</td>\n",
       "                        <td id=\"T_2dd33d74_969d_11ec_874c_5cc9d3ab37farow3_col3\" class=\"data row3 col3\" >6.532305876526664%</td>\n",
       "            </tr>\n",
       "    </tbody></table>"
      ],
      "text/plain": [
       "<pandas.io.formats.style.Styler at 0x243fcea2ac8>"
      ]
     },
     "metadata": {},
     "output_type": "display_data"
    },
    {
     "data": {
      "text/plain": [
       "(None, <matplotlib.legend.Legend at 0x243fcfcb848>)"
      ]
     },
     "execution_count": 2,
     "metadata": {},
     "output_type": "execute_result"
    },
    {
     "data": {
      "image/png": "[encoded data removed]",
      "text/plain": [
       "<Figure size 432x288 with 1 Axes>"
      ]
     },
     "metadata": {
      "needs_background": "light"
     },
     "output_type": "display_data"
    }
   ],
   "source": [
    "import matplotlib.pyplot as plt\n",
    "import pandas as pd\n",
    "import numpy as np\n",
    "\n",
    "def put_values():\n",
    "    global x, y, n, h, x0, y0, xk, yk\n",
    "    \n",
    "    h = 0.25\n",
    "    x0 = 0\n",
    "    xf = 1\n",
    "    n = int((xf - x0)/h)\n",
    "    x = []\n",
    "    y = []\n",
    "    y0 = 1\n",
    "    xk = x0\n",
    "    yk = y0\n",
    "    \n",
    "    return Euler(x, y, n, h, x0, y0, xk, yk)\n",
    "\n",
    "def Euler(x, y, n, h, x0, y0, xk, yk):\n",
    "    \n",
    "    for i in range(1, n + 1):\n",
    "        x.append(xk + h)\n",
    "        dy = yk - (2*xk)/yk\n",
    "        y.append(yk + h*dy)\n",
    "        xk = x[i - 1]\n",
    "        yk = y[i - 1]\n",
    "    \n",
    "    return [x, y]\n",
    "\n",
    "def exact_soluction():\n",
    "    x_values = put_values()[0]\n",
    "    y_results = []\n",
    "    for i in x:\n",
    "        y = np.sqrt(2*i + 1)\n",
    "        y_results.append(y)\n",
    "    return [x_values, y_results]\n",
    "\n",
    "def relative_error():\n",
    "    error = []\n",
    "    for i,j in zip(y_exact, y_euler):\n",
    "        error.append(str(np.abs(100 - (j * 100)/i)) + \"%\")\n",
    "    return error\n",
    "\n",
    "def data_frame_and_graphic():\n",
    "    global x_euler, y_euler, x_exact, y_exact\n",
    "    \n",
    "    x_euler, y_euler = put_values()\n",
    "    x_exact, y_exact = exact_soluction()\n",
    "    error = relative_error()\n",
    "    elements_df = [x_exact, y_exact, y_euler,error]\n",
    "    elements_df_np = np.array(elements_df).T\n",
    "    elements_df = elements_df_np.tolist()\n",
    "    dataframe = pd.DataFrame(elements_df, columns = [\"x\", \"Y(exact)\", \"Y(numeric)\", \"E\"]).style.hide_index()\n",
    "    plt.plot(x_exact, y_exact)\n",
    "    plt.plot(x_euler, y_euler)\n",
    "    return display(dataframe), plt.legend(['Exact','Euler'], loc = 0)\n",
    "\n",
    "data_frame_and_graphic()"
   ]
  },
  {
   "cell_type": "markdown",
   "metadata": {},
   "source": [
    "___\n",
    "### Example 2\n",
    "\n",
    "ODE: $\\dfrac{dy}{dx} = yx^2 - y$\n",
    "\n",
    "Exact Solution: $y = \\dfrac{e^{\\dfrac{x^3}{3}}}{e^x}$\n",
    "\n",
    "$x \\in [0, 2]$ and $h = 0,2$\n",
    "\n",
    "$y(0) = 1$"
   ]
  },
  {
   "cell_type": "code",
   "execution_count": 4,
   "metadata": {},
   "outputs": [
    {
     "data": {
      "text/html": [
       "<style  type=\"text/css\" >\n",
       "</style><table id=\"T_6496944c_969d_11ec_9405_5cc9d3ab37fa\" ><thead>    <tr>        <th class=\"col_heading level0 col0\" >x</th>        <th class=\"col_heading level0 col1\" >Y(exact)</th>        <th class=\"col_heading level0 col2\" >Y(numeric)</th>        <th class=\"col_heading level0 col3\" >E</th>    </tr></thead><tbody>\n",
       "                <tr>\n",
       "                                <td id=\"T_6496944c_969d_11ec_9405_5cc9d3ab37farow0_col0\" class=\"data row0 col0\" >0.2</td>\n",
       "                        <td id=\"T_6496944c_969d_11ec_9405_5cc9d3ab37farow0_col1\" class=\"data row0 col1\" >0.8209169487181868</td>\n",
       "                        <td id=\"T_6496944c_969d_11ec_9405_5cc9d3ab37farow0_col2\" class=\"data row0 col2\" >0.8</td>\n",
       "                        <td id=\"T_6496944c_969d_11ec_9405_5cc9d3ab37farow0_col3\" class=\"data row0 col3\" >2.547998156311351%</td>\n",
       "            </tr>\n",
       "            <tr>\n",
       "                                <td id=\"T_6496944c_969d_11ec_9405_5cc9d3ab37farow1_col0\" class=\"data row1 col0\" >0.4</td>\n",
       "                        <td id=\"T_6496944c_969d_11ec_9405_5cc9d3ab37farow1_col1\" class=\"data row1 col1\" >0.6847738325717047</td>\n",
       "                        <td id=\"T_6496944c_969d_11ec_9405_5cc9d3ab37farow1_col2\" class=\"data row1 col2\" >0.6464000000000001</td>\n",
       "                        <td id=\"T_6496944c_969d_11ec_9405_5cc9d3ab37farow1_col3\" class=\"data row1 col3\" >5.603869591159693%</td>\n",
       "            </tr>\n",
       "            <tr>\n",
       "                                <td id=\"T_6496944c_969d_11ec_9405_5cc9d3ab37farow2_col0\" class=\"data row2 col0\" >0.6000000000000001</td>\n",
       "                        <td id=\"T_6496944c_969d_11ec_9405_5cc9d3ab37farow2_col1\" class=\"data row2 col1\" >0.5897833576128504</td>\n",
       "                        <td id=\"T_6496944c_969d_11ec_9405_5cc9d3ab37farow2_col2\" class=\"data row2 col2\" >0.5378048000000001</td>\n",
       "                        <td id=\"T_6496944c_969d_11ec_9405_5cc9d3ab37farow2_col3\" class=\"data row2 col3\" >8.813161128051092%</td>\n",
       "            </tr>\n",
       "            <tr>\n",
       "                                <td id=\"T_6496944c_969d_11ec_9405_5cc9d3ab37farow3_col0\" class=\"data row3 col0\" >0.8</td>\n",
       "                        <td id=\"T_6496944c_969d_11ec_9405_5cc9d3ab37farow3_col1\" class=\"data row3 col1\" >0.5329469805876074</td>\n",
       "                        <td id=\"T_6496944c_969d_11ec_9405_5cc9d3ab37farow3_col2\" class=\"data row3 col2\" >0.4689657856000001</td>\n",
       "                        <td id=\"T_6496944c_969d_11ec_9405_5cc9d3ab37farow3_col3\" class=\"data row3 col3\" >12.005170742700145%</td>\n",
       "            </tr>\n",
       "            <tr>\n",
       "                                <td id=\"T_6496944c_969d_11ec_9405_5cc9d3ab37farow4_col0\" class=\"data row4 col0\" >1.0</td>\n",
       "                        <td id=\"T_6496944c_969d_11ec_9405_5cc9d3ab37farow4_col1\" class=\"data row4 col1\" >0.513417119032592</td>\n",
       "                        <td id=\"T_6496944c_969d_11ec_9405_5cc9d3ab37farow4_col2\" class=\"data row4 col2\" >0.4352002490368001</td>\n",
       "                        <td id=\"T_6496944c_969d_11ec_9405_5cc9d3ab37farow4_col3\" class=\"data row4 col3\" >15.234566027555204%</td>\n",
       "            </tr>\n",
       "            <tr>\n",
       "                                <td id=\"T_6496944c_969d_11ec_9405_5cc9d3ab37farow5_col0\" class=\"data row5 col0\" >1.2</td>\n",
       "                        <td id=\"T_6496944c_969d_11ec_9405_5cc9d3ab37farow5_col1\" class=\"data row5 col1\" >0.535796957667456</td>\n",
       "                        <td id=\"T_6496944c_969d_11ec_9405_5cc9d3ab37farow5_col2\" class=\"data row5 col2\" >0.4352002490368001</td>\n",
       "                        <td id=\"T_6496944c_969d_11ec_9405_5cc9d3ab37farow5_col3\" class=\"data row5 col3\" >18.775154877436165%</td>\n",
       "            </tr>\n",
       "            <tr>\n",
       "                                <td id=\"T_6496944c_969d_11ec_9405_5cc9d3ab37farow6_col0\" class=\"data row6 col0\" >1.4</td>\n",
       "                        <td id=\"T_6496944c_969d_11ec_9405_5cc9d3ab37farow6_col1\" class=\"data row6 col1\" >0.6154919985669631</td>\n",
       "                        <td id=\"T_6496944c_969d_11ec_9405_5cc9d3ab37farow6_col2\" class=\"data row6 col2\" >0.4734978709520385</td>\n",
       "                        <td id=\"T_6496944c_969d_11ec_9405_5cc9d3ab37farow6_col3\" class=\"data row6 col3\" >23.070020072645377%</td>\n",
       "            </tr>\n",
       "            <tr>\n",
       "                                <td id=\"T_6496944c_969d_11ec_9405_5cc9d3ab37farow7_col0\" class=\"data row7 col0\" >1.5999999999999999</td>\n",
       "                        <td id=\"T_6496944c_969d_11ec_9405_5cc9d3ab37farow7_col1\" class=\"data row7 col1\" >0.7908344171707615</td>\n",
       "                        <td id=\"T_6496944c_969d_11ec_9405_5cc9d3ab37farow7_col2\" class=\"data row7 col2\" >0.5644094621748299</td>\n",
       "                        <td id=\"T_6496944c_969d_11ec_9405_5cc9d3ab37farow7_col3\" class=\"data row7 col3\" >28.63114579736869%</td>\n",
       "            </tr>\n",
       "            <tr>\n",
       "                                <td id=\"T_6496944c_969d_11ec_9405_5cc9d3ab37farow8_col0\" class=\"data row8 col0\" >1.7999999999999998</td>\n",
       "                        <td id=\"T_6496944c_969d_11ec_9405_5cc9d3ab37farow8_col1\" class=\"data row8 col1\" >1.154884108524913</td>\n",
       "                        <td id=\"T_6496944c_969d_11ec_9405_5cc9d3ab37farow8_col2\" class=\"data row8 col2\" >0.7405052143733768</td>\n",
       "                        <td id=\"T_6496944c_969d_11ec_9405_5cc9d3ab37farow8_col3\" class=\"data row8 col3\" >35.88056075001376%</td>\n",
       "            </tr>\n",
       "            <tr>\n",
       "                                <td id=\"T_6496944c_969d_11ec_9405_5cc9d3ab37farow9_col0\" class=\"data row9 col0\" >1.9999999999999998</td>\n",
       "                        <td id=\"T_6496944c_969d_11ec_9405_5cc9d3ab37farow9_col1\" class=\"data row9 col1\" >1.9477340410546742</td>\n",
       "                        <td id=\"T_6496944c_969d_11ec_9405_5cc9d3ab37farow9_col2\" class=\"data row9 col2\" >1.0722515504126495</td>\n",
       "                        <td id=\"T_6496944c_969d_11ec_9405_5cc9d3ab37farow9_col3\" class=\"data row9 col3\" >44.94876981089069%</td>\n",
       "            </tr>\n",
       "    </tbody></table>"
      ],
      "text/plain": [
       "<pandas.io.formats.style.Styler at 0x243fd121788>"
      ]
     },
     "metadata": {},
     "output_type": "display_data"
    },
    {
     "data": {
      "text/plain": [
       "(None, <matplotlib.legend.Legend at 0x243fd1a22c8>)"
      ]
     },
     "execution_count": 4,
     "metadata": {},
     "output_type": "execute_result"
    },
    {
     "data": {
      "image/png": "[encoded data removed]",
      "text/plain": [
       "<Figure size 432x288 with 1 Axes>"
      ]
     },
     "metadata": {
      "needs_background": "light"
     },
     "output_type": "display_data"
    }
   ],
   "source": [
    "import matplotlib.pyplot as plt\n",
    "import pandas as pd\n",
    "import numpy as np\n",
    "import math\n",
    "\n",
    "def put_values():\n",
    "    global x, y, n, h, x0, y0, xk, yk\n",
    "    \n",
    "    h = 0.2\n",
    "    x0 = 0\n",
    "    xf = 2\n",
    "    n = int((xf - x0)/h)\n",
    "    x = []\n",
    "    y = []\n",
    "    y0 = 1\n",
    "    xk = x0\n",
    "    yk = y0\n",
    "    \n",
    "    return Euler(x, y, n, h, x0, y0, xk, yk)\n",
    "\n",
    "def Euler(x, y, n, h, x0, y0, xk, yk):\n",
    "\n",
    "    for i in range(1, n + 1):\n",
    "        x.append(xk + h)\n",
    "        dy = yk*(xk**2) - yk #EDO\n",
    "        y.append(yk + h*dy)\n",
    "        xk = x[i - 1]\n",
    "        yk = y[i - 1]\n",
    "    \n",
    "    return [x, y]\n",
    "\n",
    "def exact_soluction():\n",
    "    x_values = put_values()[0]\n",
    "    y_results = []\n",
    "    for i in x:\n",
    "        \n",
    "        y = (1/(math.e**i))*(math.e**((i**3)/(3)))\n",
    "        y_results.append(y)\n",
    "    return [x_values, y_results]\n",
    "\n",
    "def relative_error():\n",
    "    error = []\n",
    "    for i,j in zip(y_exact, y_euler):\n",
    "        error.append(str(np.abs(100 - (j * 100)/i)) + \"%\")\n",
    "    return error\n",
    "\n",
    "def data_frame_and_graphic():\n",
    "    global x_euler, y_euler, x_exact, y_exact\n",
    "    \n",
    "    x_euler, y_euler = put_values()\n",
    "    x_exact, y_exact = exact_soluction()\n",
    "    error = relative_error()\n",
    "    elements_df = [x_exact, y_exact, y_euler,error]\n",
    "    elements_df_np = np.array(elements_df).T\n",
    "    elements_df = elements_df_np.tolist()\n",
    "    dataframe = pd.DataFrame(elements_df, columns = [\"x\", \"Y(exact)\", \"Y(numeric)\", \"E\"]).style.hide_index()\n",
    "    plt.plot(x_exact, y_exact)\n",
    "    plt.plot(x_euler, y_euler)\n",
    "    return display(dataframe), plt.legend(['Exact','Euler'], loc = 0)\n",
    "\n",
    "data_frame_and_graphic()"
   ]
  }
 ],
 "metadata": {
  "kernelspec": {
   "display_name": "Python 3",
   "language": "python",
   "name": "python3"
  },
  "language_info": {
   "codemirror_mode": {
    "name": "ipython",
    "version": 3
   },
   "file_extension": ".py",
   "mimetype": "text/x-python",
   "name": "python",
   "nbconvert_exporter": "python",
   "pygments_lexer": "ipython3",
   "version": "3.7.6"
  }
 },
 "nbformat": 4,
 "nbformat_minor": 4
}
