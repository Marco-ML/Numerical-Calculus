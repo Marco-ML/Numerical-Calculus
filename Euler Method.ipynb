{
 "cells": [
  {
   "cell_type": "markdown",
   "metadata": {},
   "source": [
    "### Example 1\n",
    "\n",
    "ODE: $\\dfrac{dy}{dx} = y - \\dfrac{2x}{y}$\n",
    "\n",
    "Exact solution: $y^2 = 2x + 1$\n",
    "\n",
    "$x \\in [0, 1]$, $h = 0,25$\n",
    "\n",
    "$y(0) = 1$"
   ]
  },
  {
   "cell_type": "code",
   "execution_count": 2,
   "metadata": {},
   "outputs": [
    {
     "data": {
      "text/html": [
       "<style  type=\"text/css\" >\n",
       "</style><table id=\"T_2dd33d74_969d_11ec_874c_5cc9d3ab37fa\" ><thead>    <tr>        <th class=\"col_heading level0 col0\" >x</th>        <th class=\"col_heading level0 col1\" >Y(exact)</th>        <th class=\"col_heading level0 col2\" >Y(numeric)</th>        <th class=\"col_heading level0 col3\" >E</th>    </tr></thead><tbody>\n",
       "                <tr>\n",
       "                                <td id=\"T_2dd33d74_969d_11ec_874c_5cc9d3ab37farow0_col0\" class=\"data row0 col0\" >0.25</td>\n",
       "                        <td id=\"T_2dd33d74_969d_11ec_874c_5cc9d3ab37farow0_col1\" class=\"data row0 col1\" >1.224744871391589</td>\n",
       "                        <td id=\"T_2dd33d74_969d_11ec_874c_5cc9d3ab37farow0_col2\" class=\"data row0 col2\" >1.25</td>\n",
       "                        <td id=\"T_2dd33d74_969d_11ec_874c_5cc9d3ab37farow0_col3\" class=\"data row0 col3\" >2.0620726159657607%</td>\n",
       "            </tr>\n",
       "            <tr>\n",
       "                                <td id=\"T_2dd33d74_969d_11ec_874c_5cc9d3ab37farow1_col0\" class=\"data row1 col0\" >0.5</td>\n",
       "                        <td id=\"T_2dd33d74_969d_11ec_874c_5cc9d3ab37farow1_col1\" class=\"data row1 col1\" >1.4142135623730951</td>\n",
       "                        <td id=\"T_2dd33d74_969d_11ec_874c_5cc9d3ab37farow1_col2\" class=\"data row1 col2\" >1.4625</td>\n",
       "                        <td id=\"T_2dd33d74_969d_11ec_874c_5cc9d3ab37farow1_col3\" class=\"data row1 col3\" >3.414366748532572%</td>\n",
       "            </tr>\n",
       "            <tr>\n",
       "                                <td id=\"T_2dd33d74_969d_11ec_874c_5cc9d3ab37farow2_col0\" class=\"data row2 col0\" >0.75</td>\n",
       "                        <td id=\"T_2dd33d74_969d_11ec_874c_5cc9d3ab37farow2_col1\" class=\"data row2 col1\" >1.5811388300841898</td>\n",
       "                        <td id=\"T_2dd33d74_969d_11ec_874c_5cc9d3ab37farow2_col2\" class=\"data row2 col2\" >1.657184829059829</td>\n",
       "                        <td id=\"T_2dd33d74_969d_11ec_874c_5cc9d3ab37farow2_col3\" class=\"data row2 col3\" >4.809571274117033%</td>\n",
       "            </tr>\n",
       "            <tr>\n",
       "                                <td id=\"T_2dd33d74_969d_11ec_874c_5cc9d3ab37farow3_col0\" class=\"data row3 col0\" >1.0</td>\n",
       "                        <td id=\"T_2dd33d74_969d_11ec_874c_5cc9d3ab37farow3_col1\" class=\"data row3 col1\" >1.7320508075688772</td>\n",
       "                        <td id=\"T_2dd33d74_969d_11ec_874c_5cc9d3ab37farow3_col2\" class=\"data row3 col2\" >1.8451936642561264</td>\n",
       "                        <td id=\"T_2dd33d74_969d_11ec_874c_5cc9d3ab37farow3_col3\" class=\"data row3 col3\" >6.532305876526664%</td>\n",
       "            </tr>\n",
       "    </tbody></table>"
      ],
      "text/plain": [
       "<pandas.io.formats.style.Styler at 0x243fcea2ac8>"
      ]
     },
     "metadata": {},
     "output_type": "display_data"
    },
    {
     "data": {
      "text/plain": [
       "(None, <matplotlib.legend.Legend at 0x243fcfcb848>)"
      ]
     },
     "execution_count": 2,
     "metadata": {},
     "output_type": "execute_result"
    },
    {
     "data": {
      "image/png": "[encoded data removed]",
      "text/plain": [
       "<Figure size 432x288 with 1 Axes>"
      ]
     },
     "metadata": {
      "needs_background": "light"
     },
     "output_type": "display_data"
    }
   ],
   "source": [
    "import matplotlib.pyplot as plt\n",
    "import pandas as pd\n",
    "import numpy as np\n",
    "\n",
    "def put_values():\n",
    "    global x, y, n, h, x0, y0, xk, yk\n",
    "    \n",
    "    h = 0.25\n",
    "    x0 = 0\n",
    "    xf = 1\n",
    "    n = int((xf - x0)/h)\n",
    "    x = []\n",
    "    y = []\n",
    "    y0 = 1\n",
    "    xk = x0\n",
    "    yk = y0\n",
    "    \n",
    "    return Euler(x, y, n, h, x0, y0, xk, yk)\n",
    "\n",
    "def Euler(x, y, n, h, x0, y0, xk, yk):\n",
    "    \n",
    "    for i in range(1, n + 1):\n",
    "        x.append(xk + h)\n",
    "        dy = yk - (2*xk)/yk\n",
    "        y.append(yk + h*dy)\n",
    "        xk = x[i - 1]\n",
    "        yk = y[i - 1]\n",
    "    \n",
    "    return [x, y]\n",
    "\n",
    "def exact_soluction():\n",
    "    x_values = put_values()[0]\n",
    "    y_results = []\n",
    "    for i in x:\n",
    "        y = np.sqrt(2*i + 1)\n",
    "        y_results.append(y)\n",
    "    return [x_values, y_results]\n",
    "\n",
    "def relative_error():\n",
    "    error = []\n",
    "    for i,j in zip(y_exact, y_euler):\n",
    "        error.append(str(np.abs(100 - (j * 100)/i)) + \"%\")\n",
    "    return error\n",
    "\n",
    "def data_frame_and_graphic():\n",
    "    global x_euler, y_euler, x_exact, y_exact\n",
    "    \n",
    "    x_euler, y_euler = put_values()\n",
    "    x_exact, y_exact = exact_soluction()\n",
    "    error = relative_error()\n",
    "    elements_df = [x_exact, y_exact, y_euler,error]\n",
    "    elements_df_np = np.array(elements_df).T\n",
    "    elements_df = elements_df_np.tolist()\n",
    "    dataframe = pd.DataFrame(elements_df, columns = [\"x\", \"Y(exact)\", \"Y(numeric)\", \"E\"]).style.hide_index()\n",
    "    plt.plot(x_exact, y_exact)\n",
    "    plt.plot(x_euler, y_euler)\n",
    "    return display(dataframe), plt.legend(['Exact','Euler'], loc = 0)\n",
    "\n",
    "data_frame_and_graphic()"
   ]
  },
  {
   "cell_type": "markdown",
   "metadata": {},
   "source": [
    "___\n",
    "### Example 2\n",
    "\n",
    "ODE: $\\dfrac{dy}{dx} = yx^2 - y$\n",
    "\n",
    "Exact Solution: $y = \\dfrac{e^{\\dfrac{x^3}{3}}}{e^x}$\n",
    "\n",
    "$x \\in [0, 2]$ and $h = 0,2$\n",
    "\n",
    "$y(0) = 1$"
   ]
  },
  {
   "cell_type": "code",
   "execution_count": 3,
   "metadata": {},
   "outputs": [
    {
     "data": {
      "text/html": [
       "<style  type=\"text/css\" >\n",
       "</style><table id=\"T_2e6ac9ec_969d_11ec_8b43_5cc9d3ab37fa\" ><thead>    <tr>        <th class=\"col_heading level0 col0\" >x</th>        <th class=\"col_heading level0 col1\" >Y(exact)</th>        <th class=\"col_heading level0 col2\" >Y(numeric)</th>        <th class=\"col_heading level0 col3\" >E</th>    </tr></thead><tbody>\n",
       "                <tr>\n",
       "                                <td id=\"T_2e6ac9ec_969d_11ec_8b43_5cc9d3ab37farow0_col0\" class=\"data row0 col0\" >0.25</td>\n",
       "                        <td id=\"T_2e6ac9ec_969d_11ec_8b43_5cc9d3ab37farow0_col1\" class=\"data row0 col1\" >0.7828676186742903</td>\n",
       "                        <td id=\"T_2e6ac9ec_969d_11ec_8b43_5cc9d3ab37farow0_col2\" class=\"data row0 col2\" >0.75</td>\n",
       "                        <td id=\"T_2e6ac9ec_969d_11ec_8b43_5cc9d3ab37farow0_col3\" class=\"data row0 col3\" >4.198362263334943%</td>\n",
       "            </tr>\n",
       "            <tr>\n",
       "                                <td id=\"T_2e6ac9ec_969d_11ec_8b43_5cc9d3ab37farow1_col0\" class=\"data row1 col0\" >0.5</td>\n",
       "                        <td id=\"T_2e6ac9ec_969d_11ec_8b43_5cc9d3ab37farow1_col1\" class=\"data row1 col1\" >0.6323366621862497</td>\n",
       "                        <td id=\"T_2e6ac9ec_969d_11ec_8b43_5cc9d3ab37farow1_col2\" class=\"data row1 col2\" >0.57421875</td>\n",
       "                        <td id=\"T_2e6ac9ec_969d_11ec_8b43_5cc9d3ab37farow1_col3\" class=\"data row1 col3\" >9.190976209620999%</td>\n",
       "            </tr>\n",
       "            <tr>\n",
       "                                <td id=\"T_2e6ac9ec_969d_11ec_8b43_5cc9d3ab37farow2_col0\" class=\"data row2 col0\" >0.75</td>\n",
       "                        <td id=\"T_2e6ac9ec_969d_11ec_8b43_5cc9d3ab37farow2_col1\" class=\"data row2 col1\" >0.5436905695130004</td>\n",
       "                        <td id=\"T_2e6ac9ec_969d_11ec_8b43_5cc9d3ab37farow2_col2\" class=\"data row2 col2\" >0.466552734375</td>\n",
       "                        <td id=\"T_2e6ac9ec_969d_11ec_8b43_5cc9d3ab37farow2_col3\" class=\"data row2 col3\" >14.187819223551188%</td>\n",
       "            </tr>\n",
       "            <tr>\n",
       "                                <td id=\"T_2e6ac9ec_969d_11ec_8b43_5cc9d3ab37farow3_col0\" class=\"data row3 col0\" >1.0</td>\n",
       "                        <td id=\"T_2e6ac9ec_969d_11ec_8b43_5cc9d3ab37farow3_col1\" class=\"data row3 col1\" >0.513417119032592</td>\n",
       "                        <td id=\"T_2e6ac9ec_969d_11ec_8b43_5cc9d3ab37farow3_col2\" class=\"data row3 col2\" >0.4155235290527344</td>\n",
       "                        <td id=\"T_2e6ac9ec_969d_11ec_8b43_5cc9d3ab37farow3_col3\" class=\"data row3 col3\" >19.067067760481763%</td>\n",
       "            </tr>\n",
       "    </tbody></table>"
      ],
      "text/plain": [
       "<pandas.io.formats.style.Styler at 0x243fd113688>"
      ]
     },
     "metadata": {},
     "output_type": "display_data"
    },
    {
     "data": {
      "text/plain": [
       "(None, <matplotlib.legend.Legend at 0x243fd102d08>)"
      ]
     },
     "execution_count": 3,
     "metadata": {},
     "output_type": "execute_result"
    },
    {
     "data": {
      "image/png": "[encoded data removed]",
      "text/plain": [
       "<Figure size 432x288 with 1 Axes>"
      ]
     },
     "metadata": {
      "needs_background": "light"
     },
     "output_type": "display_data"
    }
   ],
   "source": [
    "import matplotlib.pyplot as plt\n",
    "import pandas as pd\n",
    "import numpy as np\n",
    "import math\n",
    "\n",
    "def put_values():\n",
    "    global x, y, n, h, x0, y0, xk, yk\n",
    "    \n",
    "    h = 0.25\n",
    "    x0 = 0\n",
    "    xf = 1\n",
    "    n = int((xf - x0)/h)\n",
    "    x = []\n",
    "    y = []\n",
    "    y0 = 1\n",
    "    xk = x0\n",
    "    yk = y0\n",
    "    \n",
    "    return Euler(x, y, n, h, x0, y0, xk, yk)\n",
    "\n",
    "def Euler(x, y, n, h, x0, y0, xk, yk):\n",
    "\n",
    "    for i in range(1, n + 1):\n",
    "        x.append(xk + h)\n",
    "        dy = yk*(xk**2) - yk #EDO\n",
    "        y.append(yk + h*dy)\n",
    "        xk = x[i - 1]\n",
    "        yk = y[i - 1]\n",
    "    \n",
    "    return [x, y]\n",
    "\n",
    "def exact_soluction():\n",
    "    x_values = put_values()[0]\n",
    "    y_results = []\n",
    "    for i in x:\n",
    "        \n",
    "        y = (1/(math.e**i))*(math.e**((i**3)/(3)))\n",
    "        y_results.append(y)\n",
    "    return [x_values, y_results]\n",
    "\n",
    "def relative_error():\n",
    "    error = []\n",
    "    for i,j in zip(y_exact, y_euler):\n",
    "        error.append(str(np.abs(100 - (j * 100)/i)) + \"%\")\n",
    "    return error\n",
    "\n",
    "def data_frame_and_graphic():\n",
    "    global x_euler, y_euler, x_exact, y_exact\n",
    "    \n",
    "    x_euler, y_euler = put_values()\n",
    "    x_exact, y_exact = exact_soluction()\n",
    "    error = relative_error()\n",
    "    elements_df = [x_exact, y_exact, y_euler,error]\n",
    "    elements_df_np = np.array(elements_df).T\n",
    "    elements_df = elements_df_np.tolist()\n",
    "    dataframe = pd.DataFrame(elements_df, columns = [\"x\", \"Y(exact)\", \"Y(numeric)\", \"E\"]).style.hide_index()\n",
    "    plt.plot(x_exact, y_exact)\n",
    "    plt.plot(x_euler, y_euler)\n",
    "    return display(dataframe), plt.legend(['Exact','Euler'], loc = 0)\n",
    "\n",
    "data_frame_and_graphic()"
   ]
  }
 ],
 "metadata": {
  "kernelspec": {
   "display_name": "Python 3",
   "language": "python",
   "name": "python3"
  },
  "language_info": {
   "codemirror_mode": {
    "name": "ipython",
    "version": 3
   },
   "file_extension": ".py",
   "mimetype": "text/x-python",
   "name": "python",
   "nbconvert_exporter": "python",
   "pygments_lexer": "ipython3",
   "version": "3.7.6"
  }
 },
 "nbformat": 4,
 "nbformat_minor": 4
}
